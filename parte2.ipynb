{
 "cells": [
  {
   "cell_type": "code",
   "execution_count": 19,
   "metadata": {},
   "outputs": [],
   "source": [
    "from pyspark.sql import SparkSession\n",
    "from pyspark.sql.functions import collect_list, struct\n",
    "from pyspark.sql.functions import udf\n",
    "from pyspark.sql.types import IntegerType\n",
    "from pyspark.sql.functions import col\n",
    "from pyspark.sql.functions import lit\n",
    "from pyspark.sql.functions import when\n",
    "import codecs\n",
    "spark = SparkSession.builder.getOrCreate()"
   ]
  },
  {
   "cell_type": "code",
   "execution_count": 20,
   "metadata": {},
   "outputs": [],
   "source": [
    "df = spark.read.json('sample_10e3.json')"
   ]
  },
  {
   "cell_type": "code",
   "execution_count": 21,
   "metadata": {},
   "outputs": [],
   "source": [
    "\n",
    "#Distrito 1 - Centro\n",
    "Palacio = [9,23,24,30,35,36,37,38,39,166]\n",
    "Embajadores = [40,41,42,43,44,45,48,49,50,51,53]\n",
    "Cortes = [27,28,29,34,52,67,86]\n",
    "Justicia = [5,6,7,10,18,19,20,26,54,58]\n",
    "Universidad =[2,4,11,12,13,15,16,17,55,57,59,211]\n",
    "Sol = [1,22,25,31,32,33,56,210]\n",
    "#Distrito 2 - Arganzuela\n",
    "Imperial = [167,236]\n",
    "Acacias = [46,47,162,163,169,170,173,174]\n",
    "Chopera = [165,175]\n",
    "Legazpi = [235]\n",
    "Delicias = [164,171,176,177]\n",
    "Palos_de_Moguer = [118,120,121,168,172]\n",
    "Atocha = [80,119,180]\n",
    "#Distrito 3 - Retiro\n",
    "Pacifico = [77,79,178]\n",
    "Adelfas = [78,84]\n",
    "Estrella = [73,84,182]\n",
    "Ibiza = [61,62,63,181]\n",
    "Jeronimos = [60,65,68,69,70,74,75,81,85]\n",
    "Niño_Jesus = [71,72,76,83]\n",
    "#Distrito 4 - Salamanca\n",
    "Recoletos = [87,90,92,93,94,95,96,102,104,105,106,107]\n",
    "Goya = [89,91,97,98,99,100,101,108,183]\n",
    "Fuente_del_Ebro = [184,185,187]\n",
    "Guindalera = [191,192,193,194,240,241,242,243]\n",
    "Lista = [143,144,145,186]\n",
    "Castellana = [88,103,109,142,190]\n",
    "#Distrito 5 - Chamartin\n",
    "El_Viso = [136,137,139,140,146,147,148,149,150,197,250]\n",
    "Prosperidad = [195,251]\n",
    "Ciudad_Jardin = [196]\n",
    "Hispanoamerica = [158,159,160,253]\n",
    "Nueva_españa = [157,209,254,255]\n",
    "Castilla = [208,249,252]\n",
    "#Distrito 6 - Tetuan\n",
    "Bellas_vistas = [205,237]\n",
    "Cuatro_Caminos = [133,151,152,153,154,155,238]\n",
    "Castillejos = [156]\n",
    "Valdeacederas = [207]\n",
    "Berruguete = [206,239]\n",
    "#Distrito 7 - Chamberi\n",
    "Gaztambide = [239,111,123,128,199]\n",
    "Arapiles = [3,127,200,245]\n",
    "Trafalgar = [124,126,246]\n",
    "Almagro = [8,122,125,141,198]\n",
    "Rios_Rosas = [129,130,131,132,134,135,138,201,247]\n",
    "Vallehermoso = [202,203,244]\n",
    "#Distrito 8 - Fuencarral \n",
    "La_Paz = [217,248]\n",
    "#Distrito 9 - Moncloa\n",
    "Casa_de_Campo = [110,113,161]\n",
    "Arguelles = [14,112,114,115,116,117]\n",
    "Ciudad_Universitaria = [256,257,258,259,260,261]\n",
    "#Distrito 10 - Latina\n",
    "Carmenes = [223]\n",
    "Puerta_del_Angel = [216,224]\n",
    "#Distrito 11 - Carabanchel\n",
    "Comilla = [228]\n",
    "San_Isidro = [212]\n",
    "#Distrito 12 - Usera\n",
    "Moscardo = [213,222]\n",
    "#Distrito 13 - Puente de Vallecas\n",
    "San_Diego = [179,227]\n",
    "Numancia = [225,226]\n",
    "#Distrito 14 - Moratalaz\n",
    "Pavones = [221]\n",
    "Marroquina = [219]\n",
    "Media_Legua = [218,220]\n",
    "#Distrito 15 - Ciudad Lineal\n",
    "Ventas = [188,232,233,234]\n",
    "Pueblo_Nuevo = [215]\n",
    "Concepcion = [189,229]\n",
    "San_Pascual = [214,230,231]\n",
    "\n",
    "Barrios = [Palacio,Embajadores,Cortes,Justicia,Universidad,Sol,\n",
    "           Imperial,Acacias,Chopera,Legazpi,Delicias,Palos_de_Moguer,Atocha,\n",
    "           Pacifico,Adelfas,Estrella,Ibiza,Jeronimos,Niño_Jesus,\n",
    "           Recoletos,Goya,Fuente_del_Ebro,Guindalera,Lista,Castellana,\n",
    "           El_Viso,Prosperidad,Ciudad_Jardin,Hispanoamerica,Nueva_españa,Castilla,\n",
    "           Bellas_vistas,Cuatro_Caminos,Castillejos,Valdeacederas,Berruguete,\n",
    "           Gaztambide,Arapiles,Trafalgar,Almagro,Rios_Rosas,Vallehermoso,\n",
    "           La_Paz,\n",
    "           Casa_de_Campo,Arguelles,Ciudad_Universitaria,\n",
    "           Carmenes,Puerta_del_Angel,\n",
    "           Comilla,San_Isidro,\n",
    "           Moscardo,\n",
    "           San_Diego,Numancia,\n",
    "           Pavones,Marroquina,Media_Legua,\n",
    "           Ventas,Pueblo_Nuevo,Concepcion,San_Pascual]"
   ]
  },
  {
   "cell_type": "code",
   "execution_count": 22,
   "metadata": {
    "scrolled": false
   },
   "outputs": [
    {
     "name": "stdout",
     "output_type": "stream",
     "text": [
      "+--------------+\n",
      "|idplug_station|\n",
      "+--------------+\n",
      "|            66|\n",
      "|           136|\n",
      "|            38|\n",
      "|            90|\n",
      "|           166|\n",
      "|            53|\n",
      "|           129|\n",
      "|           169|\n",
      "|           129|\n",
      "|           133|\n",
      "|            83|\n",
      "|            53|\n",
      "|            13|\n",
      "|            10|\n",
      "|            74|\n",
      "|            54|\n",
      "|            83|\n",
      "|            83|\n",
      "|           163|\n",
      "|            84|\n",
      "+--------------+\n",
      "only showing top 20 rows\n",
      "\n"
     ]
    }
   ],
   "source": [
    "df = df.select('idplug_station')\n",
    "df.show()"
   ]
  },
  {
   "cell_type": "code",
   "execution_count": 23,
   "metadata": {},
   "outputs": [
    {
     "name": "stdout",
     "output_type": "stream",
     "text": [
      "+--------------+-----------+\n",
      "|idplug_station|     Barrio|\n",
      "+--------------+-----------+\n",
      "|            66|  No Existe|\n",
      "|           136|  No Existe|\n",
      "|            38|    Palacio|\n",
      "|            90|  No Existe|\n",
      "|           166|    Palacio|\n",
      "|            53|Embajadores|\n",
      "|           129|  No Existe|\n",
      "|           169|  No Existe|\n",
      "|           129|  No Existe|\n",
      "|           133|  No Existe|\n",
      "|            83|  No Existe|\n",
      "|            53|Embajadores|\n",
      "|            13|Universidad|\n",
      "|            10|   Justicia|\n",
      "|            74|  No Existe|\n",
      "|            54|   Justicia|\n",
      "|            83|  No Existe|\n",
      "|            83|  No Existe|\n",
      "|           163|  No Existe|\n",
      "|            84|  No Existe|\n",
      "+--------------+-----------+\n",
      "only showing top 20 rows\n",
      "\n"
     ]
    }
   ],
   "source": [
    "df4 = df.withColumn(\"Barrio\", \\\n",
    "   when((df.idplug_station.isin(Palacio)), lit(\"Palacio\")) \\\n",
    "     .when((df.idplug_station.isin(Embajadores)), lit(\"Embajadores\")) \\\n",
    "     .when((df.idplug_station.isin(Cortes)), lit(\"Cortes\")) \\\n",
    "     .when((df.idplug_station.isin(Justicia)), lit(\"Justicia\")) \\\n",
    "     .when((df.idplug_station.isin(Universidad)), lit(\"Universidad\")) \\\n",
    "     .when((df.idplug_station.isin(Sol)), lit(\"Sol\")) \\\n",
    "     .otherwise(lit(\"No Existe\")) \\\n",
    "  )\n",
    "df4.show()"
   ]
  },
  {
   "cell_type": "code",
   "execution_count": 24,
   "metadata": {
    "scrolled": true
   },
   "outputs": [
    {
     "name": "stdout",
     "output_type": "stream",
     "text": [
      "+-----------+-----+\n",
      "|     Barrio|count|\n",
      "+-----------+-----+\n",
      "|Universidad|   77|\n",
      "|  No Existe|  712|\n",
      "|        Sol|   19|\n",
      "|    Palacio|   27|\n",
      "|   Justicia|   54|\n",
      "|     Cortes|   32|\n",
      "|Embajadores|   79|\n",
      "+-----------+-----+\n",
      "\n"
     ]
    }
   ],
   "source": [
    "df4 = df4.groupBy('Barrio').count()\n",
    "df4.show()"
   ]
  },
  {
   "cell_type": "code",
   "execution_count": null,
   "metadata": {},
   "outputs": [],
   "source": []
  }
 ],
 "metadata": {
  "kernelspec": {
   "display_name": "Python 3",
   "language": "python",
   "name": "python3"
  },
  "language_info": {
   "codemirror_mode": {
    "name": "ipython",
    "version": 3
   },
   "file_extension": ".py",
   "mimetype": "text/x-python",
   "name": "python",
   "nbconvert_exporter": "python",
   "pygments_lexer": "ipython3",
   "version": "3.8.10"
  }
 },
 "nbformat": 4,
 "nbformat_minor": 4
}
